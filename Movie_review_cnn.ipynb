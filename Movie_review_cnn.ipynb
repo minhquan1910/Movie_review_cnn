{
  "nbformat": 4,
  "nbformat_minor": 0,
  "metadata": {
    "colab": {
      "name": "Movie_review_cnn.ipynb",
      "provenance": [],
      "authorship_tag": "ABX9TyMKA+InNyaUYrPScodqqXHd",
      "include_colab_link": true
    },
    "kernelspec": {
      "name": "python3",
      "display_name": "Python 3"
    }
  },
  "cells": [
    {
      "cell_type": "markdown",
      "metadata": {
        "id": "view-in-github",
        "colab_type": "text"
      },
      "source": [
        "<a href=\"https://colab.research.google.com/github/minhquan1910/Movie_review_cnn/blob/main/Movie_review_cnn.ipynb\" target=\"_parent\"><img src=\"https://colab.research.google.com/assets/colab-badge.svg\" alt=\"Open In Colab\"/></a>"
      ]
    },
    {
      "cell_type": "code",
      "metadata": {
        "id": "k3Ehx2l-AoHb"
      },
      "source": [
        "!tar -xf /content/review_polarity.tar.gz"
      ],
      "execution_count": null,
      "outputs": []
    },
    {
      "cell_type": "code",
      "metadata": {
        "colab": {
          "base_uri": "https://localhost:8080/"
        },
        "id": "d5cduu9rEtEw",
        "outputId": "126469f6-50f1-4f96-f686-b91b66657d89"
      },
      "source": [
        "import nltk\n",
        "nltk.download('stopwords')"
      ],
      "execution_count": null,
      "outputs": [
        {
          "output_type": "stream",
          "text": [
            "[nltk_data] Downloading package stopwords to /root/nltk_data...\n",
            "[nltk_data]   Unzipping corpora/stopwords.zip.\n"
          ],
          "name": "stdout"
        },
        {
          "output_type": "execute_result",
          "data": {
            "text/plain": [
              "True"
            ]
          },
          "metadata": {
            "tags": []
          },
          "execution_count": 2
        }
      ]
    },
    {
      "cell_type": "code",
      "metadata": {
        "id": "oVS62JU5EnKh"
      },
      "source": [
        "import string\n",
        "import re\n",
        "from os import listdir\n",
        "from nltk.corpus import stopwords\n",
        "from collections import Counter\n",
        "from numpy import array\n",
        "from keras.preprocessing.text import Tokenizer\n",
        "from keras.preprocessing.sequence import pad_sequences\n",
        "from keras.utils.vis_utils import plot_model\n",
        "from keras.models import Sequential\n",
        "from keras.layers import Dense\n",
        "from keras.layers import Flatten\n",
        "from keras.layers import Embedding\n",
        "from keras.layers.convolutional import Conv1D\n",
        "from keras.layers.convolutional import MaxPooling1D"
      ],
      "execution_count": null,
      "outputs": []
    },
    {
      "cell_type": "code",
      "metadata": {
        "id": "MloK6PZ3E1cm"
      },
      "source": [
        "def load_doc(filename):\n",
        "  file = open(filename, 'r')\n",
        "  text = file.read()\n",
        "  file.close()\n",
        "  return text\n",
        "def clean_doc(doc):\n",
        "  text = doc.split()\n",
        "  re_punc = re.compile('[%s]' % re.escape(string.punctuation))\n",
        "  tokens = [re_punc.sub('',w) for w in text]\n",
        "  tokens = [token for token in tokens if token.isalpha()]\n",
        "  stop_words = set(stopwords.words('english'))\n",
        "  tokens = [token for token in tokens if not token in stop_words]\n",
        "  tokens = [token for token in tokens if len(token) >1]\n",
        "  return tokens"
      ],
      "execution_count": null,
      "outputs": []
    },
    {
      "cell_type": "code",
      "metadata": {
        "colab": {
          "base_uri": "https://localhost:8080/"
        },
        "id": "1KYecTsJH0bO",
        "outputId": "4377cdb6-1538-44b6-e637-53fef6b2c6fa"
      },
      "source": [
        "filename ='/content/txt_sentoken/pos/cv000_29590.txt'\n",
        "doc = load_doc(filename)\n",
        "tokens = clean_doc(doc)\n",
        "print(tokens)"
      ],
      "execution_count": null,
      "outputs": [
        {
          "output_type": "stream",
          "text": [
            "['films', 'adapted', 'comic', 'books', 'plenty', 'success', 'whether', 'theyre', 'superheroes', 'batman', 'superman', 'spawn', 'geared', 'toward', 'kids', 'casper', 'arthouse', 'crowd', 'ghost', 'world', 'theres', 'never', 'really', 'comic', 'book', 'like', 'hell', 'starters', 'created', 'alan', 'moore', 'eddie', 'campbell', 'brought', 'medium', 'whole', 'new', 'level', 'mid', 'series', 'called', 'watchmen', 'say', 'moore', 'campbell', 'thoroughly', 'researched', 'subject', 'jack', 'ripper', 'would', 'like', 'saying', 'michael', 'jackson', 'starting', 'look', 'little', 'odd', 'book', 'graphic', 'novel', 'pages', 'long', 'includes', 'nearly', 'consist', 'nothing', 'footnotes', 'words', 'dont', 'dismiss', 'film', 'source', 'get', 'past', 'whole', 'comic', 'book', 'thing', 'might', 'find', 'another', 'stumbling', 'block', 'hells', 'directors', 'albert', 'allen', 'hughes', 'getting', 'hughes', 'brothers', 'direct', 'seems', 'almost', 'ludicrous', 'casting', 'carrot', 'top', 'well', 'anything', 'riddle', 'better', 'direct', 'film', 'thats', 'set', 'ghetto', 'features', 'really', 'violent', 'street', 'crime', 'mad', 'geniuses', 'behind', 'menace', 'ii', 'society', 'ghetto', 'question', 'course', 'whitechapel', 'londons', 'east', 'end', 'filthy', 'sooty', 'place', 'whores', 'called', 'unfortunates', 'starting', 'get', 'little', 'nervous', 'mysterious', 'psychopath', 'carving', 'profession', 'surgical', 'precision', 'first', 'stiff', 'turns', 'copper', 'peter', 'godley', 'robbie', 'coltrane', 'world', 'enough', 'calls', 'inspector', 'frederick', 'abberline', 'johnny', 'depp', 'blow', 'crack', 'case', 'abberline', 'widower', 'prophetic', 'dreams', 'unsuccessfully', 'tries', 'quell', 'copious', 'amounts', 'absinthe', 'opium', 'upon', 'arriving', 'whitechapel', 'befriends', 'unfortunate', 'named', 'mary', 'kelly', 'heather', 'graham', 'say', 'isnt', 'proceeds', 'investigate', 'horribly', 'gruesome', 'crimes', 'even', 'police', 'surgeon', 'cant', 'stomach', 'dont', 'think', 'anyone', 'needs', 'briefed', 'jack', 'ripper', 'wont', 'go', 'particulars', 'say', 'moore', 'campbell', 'unique', 'interesting', 'theory', 'identity', 'killer', 'reasons', 'chooses', 'slay', 'comic', 'dont', 'bother', 'cloaking', 'identity', 'ripper', 'screenwriters', 'terry', 'hayes', 'vertical', 'limit', 'rafael', 'yglesias', 'les', 'mis', 'rables', 'good', 'job', 'keeping', 'hidden', 'viewers', 'end', 'funny', 'watch', 'locals', 'blindly', 'point', 'finger', 'blame', 'jews', 'indians', 'englishman', 'could', 'never', 'capable', 'committing', 'ghastly', 'acts', 'hells', 'ending', 'whistling', 'stonecutters', 'song', 'simpsons', 'days', 'holds', 'back', 'electric', 'carwho', 'made', 'steve', 'guttenberg', 'star', 'dont', 'worry', 'itll', 'make', 'sense', 'see', 'onto', 'hells', 'appearance', 'certainly', 'dark', 'bleak', 'enough', 'surprising', 'see', 'much', 'looks', 'like', 'tim', 'burton', 'film', 'planet', 'apes', 'times', 'seems', 'like', 'sleepy', 'hollow', 'print', 'saw', 'wasnt', 'completely', 'finished', 'color', 'music', 'finalized', 'comments', 'marilyn', 'manson', 'cinematographer', 'peter', 'deming', 'dont', 'say', 'word', 'ably', 'captures', 'dreariness', 'victorianera', 'london', 'helped', 'make', 'flashy', 'killing', 'scenes', 'remind', 'crazy', 'flashbacks', 'twin', 'peaks', 'even', 'though', 'violence', 'film', 'pales', 'comparison', 'blackandwhite', 'comic', 'oscar', 'winner', 'martin', 'childs', 'shakespeare', 'love', 'production', 'design', 'turns', 'original', 'prague', 'surroundings', 'one', 'creepy', 'place', 'even', 'acting', 'hell', 'solid', 'dreamy', 'depp', 'turning', 'typically', 'strong', 'performance', 'deftly', 'handling', 'british', 'accent', 'ians', 'holm', 'joe', 'goulds', 'secret', 'richardson', 'dalmatians', 'log', 'great', 'supporting', 'roles', 'big', 'surprise', 'graham', 'cringed', 'first', 'time', 'opened', 'mouth', 'imagining', 'attempt', 'irish', 'accent', 'actually', 'wasnt', 'half', 'bad', 'film', 'however', 'good', 'strong', 'violencegore', 'sexuality', 'language', 'drug', 'content']\n"
          ],
          "name": "stdout"
        }
      ]
    },
    {
      "cell_type": "code",
      "metadata": {
        "id": "L2PdxB55JjvL"
      },
      "source": [
        "def add_doc_to_vocab(filename,vocab):\n",
        "  doc = load_doc(filename)\n",
        "  tokens = clean_doc(doc)\n",
        "  vocab.update(tokens)\n",
        "def process_docs(directory,vocab):\n",
        "  for filename in listdir(directory):\n",
        "    if filename.startswith('cv9'):\n",
        "      continue\n",
        "    path = directory + '/' + filename\n",
        "    add_doc_to_vocab(path,vocab)"
      ],
      "execution_count": null,
      "outputs": []
    },
    {
      "cell_type": "code",
      "metadata": {
        "colab": {
          "base_uri": "https://localhost:8080/"
        },
        "id": "psOeKWeQKyHA",
        "outputId": "8a7f9f95-d831-4f78-b8dc-624bc3359cb0"
      },
      "source": [
        "vocab = Counter()\n",
        "process_docs('/content/txt_sentoken/neg',vocab)\n",
        "process_docs('/content/txt_sentoken/pos',vocab)\n",
        "print(len(vocab))\n",
        "print(vocab.most_common(50))\n",
        "min_occurane = 2\n",
        "tokens = [k for k,c in vocab.items() if c >= min_occurane]\n",
        "print(len(tokens))\n",
        "def save_list(lines,filename):\n",
        "  doc = '\\n'.join(lines)\n",
        "  file = open(filename, 'w')\n",
        "  file.write(doc)\n",
        "  file.close()\n",
        "save_list(tokens,'vocab.txt')"
      ],
      "execution_count": null,
      "outputs": [
        {
          "output_type": "stream",
          "text": [
            "44276\n",
            "[('film', 7983), ('one', 4946), ('movie', 4826), ('like', 3201), ('even', 2262), ('good', 2080), ('time', 2041), ('story', 1907), ('films', 1873), ('would', 1844), ('much', 1824), ('also', 1757), ('characters', 1735), ('get', 1724), ('character', 1703), ('two', 1643), ('first', 1588), ('see', 1557), ('way', 1515), ('well', 1511), ('make', 1418), ('really', 1407), ('little', 1351), ('life', 1334), ('plot', 1288), ('people', 1269), ('bad', 1248), ('could', 1248), ('scene', 1241), ('movies', 1238), ('never', 1201), ('best', 1179), ('new', 1140), ('scenes', 1135), ('man', 1131), ('many', 1130), ('doesnt', 1118), ('know', 1092), ('dont', 1086), ('hes', 1024), ('great', 1014), ('another', 992), ('action', 985), ('love', 977), ('us', 967), ('go', 952), ('director', 948), ('end', 946), ('something', 945), ('still', 936)]\n",
            "25767\n"
          ],
          "name": "stdout"
        }
      ]
    },
    {
      "cell_type": "code",
      "metadata": {
        "id": "B7bVHWVPNosg"
      },
      "source": [
        "def clean_doc(doc,vocab):\n",
        "  tokens = doc.split()\n",
        "  re_punc = re.compile('[%s]' % re.escape(string.punctuation))\n",
        "  tokens = [re_punc.sub('',w) for w in tokens]\n",
        "  tokens = [w for w in tokens if w in vocab]\n",
        "  tokens = ' '.join(tokens)\n",
        "  return tokens\n",
        "def process_docs(directory,vocab,is_train):\n",
        "  document = list()\n",
        "  for filename in listdir(directory):\n",
        "    if is_train and filename.startswith('cv9'):\n",
        "      continue\n",
        "    if not is_train and not filename.startswith('cv9'):\n",
        "      continue\n",
        "    path = directory + '/' + filename\n",
        "    doc = load_doc(path)\n",
        "    tokens = clean_doc(doc,vocab)\n",
        "    document.append(tokens)\n",
        "  return document\n",
        "def load_clean_dataset(vocab,is_train):\n",
        "  neg = process_docs('/content/txt_sentoken/neg',vocab,is_train)\n",
        "  pos = process_docs('/content/txt_sentoken/pos',vocab,is_train)\n",
        "  docs = neg + pos\n",
        "  labels = array([0 for _ in range(len(neg))] + [1 for _ in range(len(pos))])\n",
        "  return docs,labels\n",
        "def create_tokenizer(doc):\n",
        "  tokenizer = Tokenizer()\n",
        "  tokenizer.fit_on_texts(doc)\n",
        "  return tokenizer\n",
        "def encoded_docs(tokenizer,max_length,docs):\n",
        "  encoded = tokenizer.texts_to_sequences(docs)\n",
        "  padding = pad_sequences(encoded,maxlen=max_length,padding = 'post')\n",
        "  return padding\n",
        "def define_model(vocab_size,max_length):\n",
        "  model = Sequential()\n",
        "  model.add(Embedding(vocab_size,100,input_length = max_length))\n",
        "  model.add(Conv1D(filters=32, kernel_size=8, activation='relu'))\n",
        "  model.add(MaxPooling1D(pool_size=2))\n",
        "  model.add(Flatten())\n",
        "  model.add(Dense(10,activation='relu'))\n",
        "  model.add(Dense(1,activation='sigmoid'))\n",
        "  model.compile(loss = 'binary_crossentropy', optimizer = 'adam', metrics = 'accuracy')\n",
        "  model.summary()\n",
        "  plot_model(model, to_file = 'model.png', show_shapes = True)\n",
        "  return model "
      ],
      "execution_count": null,
      "outputs": []
    },
    {
      "cell_type": "code",
      "metadata": {
        "colab": {
          "base_uri": "https://localhost:8080/"
        },
        "id": "bwtlMMsqYn84",
        "outputId": "28a71458-8845-4f5b-cf5a-f04324e17b46"
      },
      "source": [
        "vocab_filename = '/content/vocab.txt'\n",
        "vocab = load_doc(vocab_filename)\n",
        "vocab = set(vocab.split())\n",
        "train_docs, ytrain = load_clean_dataset(vocab,True)\n",
        "tokenizer = create_tokenizer(train_docs)\n",
        "vocab_size = len(tokenizer.word_index) + 1\n",
        "print('Vocabulary size %d' %vocab_size)\n",
        "max_length = max([len(s.split()) for s in train_docs])\n",
        "print('Max length %d' %max_length)\n",
        "Xtrain = encoded_docs(tokenizer,max_length,train_docs)\n",
        "model = define_model(vocab_size,max_length)\n",
        "model.fit(Xtrain, ytrain, epochs = 10, verbose = 2)\n",
        "model.save('model.h5')"
      ],
      "execution_count": null,
      "outputs": [
        {
          "output_type": "stream",
          "text": [
            "Vocabulary size 25768\n",
            "Max length 1317\n",
            "Model: \"sequential\"\n",
            "_________________________________________________________________\n",
            "Layer (type)                 Output Shape              Param #   \n",
            "=================================================================\n",
            "embedding (Embedding)        (None, 1317, 100)         2576800   \n",
            "_________________________________________________________________\n",
            "conv1d (Conv1D)              (None, 1310, 32)          25632     \n",
            "_________________________________________________________________\n",
            "max_pooling1d (MaxPooling1D) (None, 655, 32)           0         \n",
            "_________________________________________________________________\n",
            "flatten (Flatten)            (None, 20960)             0         \n",
            "_________________________________________________________________\n",
            "dense (Dense)                (None, 10)                209610    \n",
            "_________________________________________________________________\n",
            "dense_1 (Dense)              (None, 1)                 11        \n",
            "=================================================================\n",
            "Total params: 2,812,053\n",
            "Trainable params: 2,812,053\n",
            "Non-trainable params: 0\n",
            "_________________________________________________________________\n",
            "Epoch 1/10\n",
            "57/57 - 15s - loss: 0.6968 - accuracy: 0.5067\n",
            "Epoch 2/10\n",
            "57/57 - 14s - loss: 0.6560 - accuracy: 0.6239\n",
            "Epoch 3/10\n",
            "57/57 - 14s - loss: 0.2454 - accuracy: 0.9461\n",
            "Epoch 4/10\n",
            "57/57 - 14s - loss: 0.0126 - accuracy: 0.9989\n",
            "Epoch 5/10\n",
            "57/57 - 14s - loss: 0.0039 - accuracy: 0.9994\n",
            "Epoch 6/10\n",
            "57/57 - 14s - loss: 0.0027 - accuracy: 0.9994\n",
            "Epoch 7/10\n",
            "57/57 - 14s - loss: 0.0021 - accuracy: 0.9994\n",
            "Epoch 8/10\n",
            "57/57 - 14s - loss: 0.0015 - accuracy: 0.9994\n",
            "Epoch 9/10\n",
            "57/57 - 14s - loss: 9.4758e-04 - accuracy: 0.9994\n",
            "Epoch 10/10\n",
            "57/57 - 14s - loss: 6.1480e-04 - accuracy: 1.0000\n"
          ],
          "name": "stdout"
        }
      ]
    },
    {
      "cell_type": "code",
      "metadata": {
        "colab": {
          "base_uri": "https://localhost:8080/"
        },
        "id": "QTvJKk16CWPj",
        "outputId": "23e18249-f9b5-470a-ae41-8273b9431ac2"
      },
      "source": [
        "from keras.models import load_model\n",
        "test_docs,ytest = load_clean_dataset(vocab,False)\n",
        "Xtest = encoded_docs(tokenizer,max_length,test_docs)\n",
        "model = load_model('model.h5')\n",
        "_, acc = model.evaluate(Xtrain,ytrain,verbose = 0)\n",
        "print('Train accuracy %.2f' %(acc*100))\n",
        "_, acc = model.evaluate(Xtest,ytest,verbose=0)\n",
        "print('Test accuracy %.2f' %(acc*100))\n"
      ],
      "execution_count": null,
      "outputs": [
        {
          "output_type": "stream",
          "text": [
            "Train accuracy 100.00\n",
            "Test accuracy 86.50\n"
          ],
          "name": "stdout"
        }
      ]
    },
    {
      "cell_type": "code",
      "metadata": {
        "colab": {
          "base_uri": "https://localhost:8080/"
        },
        "id": "BwOyZ6Z4ECna",
        "outputId": "45b66c5a-baac-4efe-d18f-b8bd1cf4adc2"
      },
      "source": [
        "def predict_sentiment(review,vocab,tokenizer,max_length,model):\n",
        "  line = clean_doc(review,vocab)\n",
        "  padded = encoded_docs(tokenizer,max_length,[line])\n",
        "  yhat = model.predict(padded,verbose = 0)\n",
        "  percent_pos = yhat[0,0]\n",
        "  if round(percent_pos) == 0:\n",
        "    return (1-percent_pos), 'NEGATIVE'\n",
        "  return (1-percent_pos), 'POSITIVE'\n",
        "text = 'Everyone wil enjoy this film.I love it, recommended!'\n",
        "percent,sentiment = predict_sentiment(text,vocab,tokenizer,max_length,model)\n",
        "print('Review: [%s] \\nSentiment: %s (%.3f%%)' %(text,sentiment,percent*100))\n",
        "text = 'This is a bad movie.Do not watch it.It sucks'\n",
        "percent,sentiment = predict_sentiment(text,vocab,tokenizer,max_length,model)\n",
        "print('Review: [%s] \\nSentiment: %s (%.3f%%)' %(text,sentiment,percent*100))"
      ],
      "execution_count": null,
      "outputs": [
        {
          "output_type": "stream",
          "text": [
            "Review: [Everyone wil enjoy this film.I love it, recommended!] \n",
            "Sentiment: POSITIVE (24.511%)\n",
            "Review: [This is a bad movie.Do not watch it.It sucks] \n",
            "Sentiment: POSITIVE (29.346%)\n"
          ],
          "name": "stdout"
        }
      ]
    }
  ]
}